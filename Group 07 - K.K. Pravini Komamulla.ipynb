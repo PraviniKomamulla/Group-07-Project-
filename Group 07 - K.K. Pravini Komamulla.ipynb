{
 "cells": [
  {
   "cell_type": "markdown",
   "id": "913aec91",
   "metadata": {},
   "source": [
    "# Group 07: Developing Basic Calculator"
   ]
  },
  {
   "cell_type": "markdown",
   "id": "553459d1",
   "metadata": {},
   "source": [
    "## Kahatapitiya Kankanamalage Pravini Komamulla EN000759"
   ]
  },
  {
   "cell_type": "markdown",
   "id": "b788e91b",
   "metadata": {},
   "source": [
    "### 05.03.2024"
   ]
  },
  {
   "cell_type": "markdown",
   "id": "261a704f",
   "metadata": {},
   "source": [
    "### Team Memebers:\n",
    "##### Xian Qian\n",
    "##### Parth Bharatbhai Mangukiya\n",
    "##### Kahatapitiya Kankanamalage Pravini Komamulla\n",
    "##### Keerthilanka Dinithi Waidyage Waidyage\n",
    "##### Rathnayaka Mudiyanselage Dammika sudesh Rathnayaka\n"
   ]
  },
  {
   "cell_type": "markdown",
   "id": "a8e7137a",
   "metadata": {},
   "source": [
    "### Decription: Developing basic calculator which can compute Power, Square root, Multiplication, Division, Addition and Subtraction with maximally two numbers "
   ]
  },
  {
   "cell_type": "code",
   "execution_count": 1,
   "id": "eacb6ab4",
   "metadata": {},
   "outputs": [
    {
     "name": "stdout",
     "output_type": "stream",
     "text": [
      "Group_07 Project: Basic calculator\n",
      "Following operation can be performed from Basic Calculator\n",
      "A. Power\n",
      "B. Square_root\n",
      "C. Multiplication\n",
      "D. Division \n",
      "E. Addition\n",
      "F. Subtraction\n",
      "G. Exit\n",
      "Select your choice from A, B, C, D, E, F, G: A\n",
      "Enter your First Number: 25\n",
      "Enter your Second Number: 5\n",
      "Answer is  9765625.0\n",
      "Select your choice from A, B, C, D, E, F, G: B\n",
      "Enter your First Number: 9\n",
      "Answer is  3.0\n",
      "Select your choice from A, B, C, D, E, F, G: C\n",
      "Enter your First Number: 10\n",
      "Enter your Second Number: 5\n",
      "Answer is  50.0\n",
      "Select your choice from A, B, C, D, E, F, G: D\n",
      "Enter your First Number: 8\n",
      "Enter your Second Number: 2\n",
      "Answer is  4.0\n",
      "Select your choice from A, B, C, D, E, F, G: E\n",
      "Enter your First Number: 4\n",
      "Enter your Second Number: 4\n",
      "Answer is  8.0\n",
      "Select your choice from A, B, C, D, E, F, G: F\n",
      "Enter your First Number: 10\n",
      "Enter your Second Number: 5\n",
      "Answer is  5.0\n",
      "Select your choice from A, B, C, D, E, F, G: G\n",
      "Ending the Calculation. Thanks for using the Basic Calculator\n"
     ]
    }
   ],
   "source": [
    "# Code is used to import math module to get square root operation from math module\n",
    "import math\n",
    "\n",
    "# This function use to get the power (second number) of a number (first number)\n",
    "def Power(Num_1, Num_2):\n",
    "    return Num_1 ** Num_2\n",
    "\n",
    "# This function use to get square root of a number\n",
    "def Square_root(Num_1):\n",
    "    if Num_1 < 0: # if number is below to \"ZERO\", function wouldn't perform\n",
    "        return \"Error! Function CAN NOT be performed for NEGATIVE NUMBERS\"\n",
    "    else:\n",
    "        return math.sqrt(Num_1)\n",
    "    \n",
    "# This function use to multiply two numbers\n",
    "def Multiply(Num_1, Num_2):\n",
    "    return Num_1 * Num_2\n",
    "\n",
    "# This function use to divide first number by second number\n",
    "def Division(Num_1, Num_2):\n",
    "    if Num_2 == 0: # if second number is \"ZERO\", function wouldn't perform\n",
    "        return \"Error! Denominator SHOULD NOT be ZERO\"\n",
    "    else:\n",
    "        return Num_1 / Num_2\n",
    "    \n",
    "# This function use to add two numbers\n",
    "def Addition(Num_1, Num_2):\n",
    "    return Num_1 + Num_2\n",
    "\n",
    "# This function use to subtract first number by second number\n",
    "def Subtraction(Num_1, Num_2):\n",
    "    return Num_1 - Num_2\n",
    "\n",
    "print(\"Group_07 Project: Basic calculator\")\n",
    "print(\"Following operation can be performed from Basic Calculator\")\n",
    "print(\"A. Power\")\n",
    "print(\"B. Square_root\")\n",
    "print(\"C. Multiplication\")\n",
    "print(\"D. Division \")\n",
    "print(\"E. Addition\")\n",
    "print(\"F. Subtraction\")\n",
    "print(\"G. Exit\")\n",
    "\n",
    "while True: # this is used for indefinite loop until certain condition is met or exit using \"break\"\n",
    "    Choice = input(\"Select your choice from A, B, C, D, E, F, G: \")  # take the input from user where user defined using \"in\" \n",
    "\n",
    "    if Choice in ('A', 'B', 'C', 'D', 'E', 'F',): # check if choice is one of the six options\n",
    "        try: \n",
    "            Num_1 = float(input(\"Enter your First Number: \")) # float is used to use decimal numbers as well\n",
    "            if Choice != 'B': # square root operation, only one number is used while other operations are used both numbers.\n",
    "                Num_2 = float(input(\"Enter your Second Number: \"))\n",
    "        except: # this is used to catch the exceptions during executions when using \"try\" \n",
    "            continue # is used to end the current iteration of while loop & continue the next iteration \n",
    "       \n",
    "        # If User is select particular letter from choice option, operation will be continued accordingly\n",
    "        if Choice == 'A': \n",
    "            print(\"Answer is \", Power(Num_1, Num_2))\n",
    "        elif Choice == 'B':\n",
    "            print(\"Answer is \", Square_root(Num_1))\n",
    "        elif Choice == 'C':\n",
    "            print(\"Answer is \", Multiply(Num_1, Num_2))\n",
    "        elif Choice == 'D':\n",
    "            print(\"Answer is \", Division(Num_1, Num_2))\n",
    "        elif Choice == 'E':\n",
    "            print(\"Answer is \", Addition(Num_1, Num_2))\n",
    "        elif Choice == 'F':\n",
    "            print(\"Answer is \", Subtraction(Num_1, Num_2))\n",
    "            \n",
    "    elif Choice == 'G': \n",
    "        print(\"Ending the Calculation. Thanks for using the Basic Calculator\")\n",
    "        break # If User select \"Exit\", calculation will be discontinued\n",
    "    else: # if User select incorrect choice apart from \"in\", it will give a chance to select correct choice\n",
    "        print(\"Invalid choice. Please select again.\")\n"
   ]
  },
  {
   "cell_type": "code",
   "execution_count": null,
   "id": "686338ef",
   "metadata": {},
   "outputs": [],
   "source": []
  }
 ],
 "metadata": {
  "kernelspec": {
   "display_name": "Python 3 (ipykernel)",
   "language": "python",
   "name": "python3"
  },
  "language_info": {
   "codemirror_mode": {
    "name": "ipython",
    "version": 3
   },
   "file_extension": ".py",
   "mimetype": "text/x-python",
   "name": "python",
   "nbconvert_exporter": "python",
   "pygments_lexer": "ipython3",
   "version": "3.11.5"
  }
 },
 "nbformat": 4,
 "nbformat_minor": 5
}
